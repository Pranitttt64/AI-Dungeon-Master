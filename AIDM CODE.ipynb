{
 "cells": [
  {
   "cell_type": "code",
   "execution_count": 1,
   "metadata": {},
   "outputs": [],
   "source": [
    "import streamlit as st"
   ]
  },
  {
   "cell_type": "code",
   "execution_count": null,
   "metadata": {},
   "outputs": [],
   "source": [
    "from transformers import GPT2LMHeadModel, GPT2Tokenizer"
   ]
  },
  {
   "cell_type": "code",
   "execution_count": 3,
   "metadata": {},
   "outputs": [],
   "source": [
    "import torch"
   ]
  },
  {
   "cell_type": "code",
   "execution_count": 4,
   "metadata": {},
   "outputs": [],
   "source": [
    "def load_model():\n",
    "    model_name=\"distilgpt2\"\n",
    "    tokenizer = GPT2Tokenizer.from_pretrained(model_name)\n",
    "    model = GPT2LMHeadModel.from_pretrained(model_name)\n",
    "    return tokenizer, model"
   ]
  },
  {
   "cell_type": "code",
   "execution_count": 6,
   "metadata": {},
   "outputs": [],
   "source": [
    "tokenizer,model = load_model()"
   ]
  },
  {
   "cell_type": "code",
   "execution_count": 9,
   "metadata": {},
   "outputs": [],
   "source": [
    "def generate_story(prompt):\n",
    "    input_ids = tokenizer.encode(prompt,return_tensors=\"pt\")\n",
    "    output = model.generate(\n",
    "        input_ids,\n",
    "        max_length = 300,\n",
    "        pad_token_id = tokenizer.eos_token_id,\n",
    "        do_sample=True,\n",
    "        top_k = 50,\n",
    "        top_p = 0.95,\n",
    "        temperature = 0.9\n",
    "    )\n",
    "    return tokenizer.decode(output[0],skip_special_tokens=True)"
   ]
  },
  {
   "cell_type": "code",
   "execution_count": null,
   "metadata": {},
   "outputs": [],
   "source": [
    "# Streamlit UI\n",
    "st.title(\"🧙‍♂️ AI Dungeon Master\")\n",
    "st.markdown(\"Write your moves and let the AI craft your adventure!\")\n",
    "\n",
    "# Session state to store story\n",
    "if \"story\" not in st.session_state:\n",
    "    st.session_state.story = \"You wake up in a dark enchanted forest. A dragon roars in the distance...\"\n",
    "\n",
    "# Show story so far\n",
    "st.text_area(\"Story so far:\", value=st.session_state.story, height=300)\n",
    "\n",
    "# Get user input\n",
    "user_input = st.text_input(\"Your move:\")\n",
    "\n",
    "# Generate and update story\n",
    "if user_input:\n",
    "    st.session_state.story += \"\\n\" + user_input\n",
    "    st.session_state.story = generate_story(st.session_state.story)\n",
    "    st.experimental_rerun()  # Refresh to show updated story"
   ]
  }
 ],
 "metadata": {
  "kernelspec": {
   "display_name": "mytfenv39",
   "language": "python",
   "name": "python3"
  },
  "language_info": {
   "codemirror_mode": {
    "name": "ipython",
    "version": 3
   },
   "file_extension": ".py",
   "mimetype": "text/x-python",
   "name": "python",
   "nbconvert_exporter": "python",
   "pygments_lexer": "ipython3",
   "version": "3.9.23"
  }
 },
 "nbformat": 4,
 "nbformat_minor": 2
}
